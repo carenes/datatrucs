{
 "cells": [
  {
   "cell_type": "markdown",
   "id": "99ac2c7e-6e73-4ce2-b965-3e8c0f749fda",
   "metadata": {},
   "source": [
    "# Python pour les SHS, exercices"
   ]
  },
  {
   "cell_type": "markdown",
   "id": "9c208045-cf1d-43c9-8ec7-0baf0e9a9109",
   "metadata": {},
   "source": [
    "<span style = \"color: blue\">Notes à partir de : Schultz et Bussonnier (2021) Python pour les SHS</style>\n",
    "\n",
    "<span style = \"color: blue\">Voir aussi : https://python.sdv.univ-paris-diderot.fr/00_avant_propos/</style>"
   ]
  },
  {
   "cell_type": "markdown",
   "id": "4d0995b4-6af1-4d33-a06d-9ba397496e72",
   "metadata": {},
   "source": [
    "## Premiers essais"
   ]
  },
  {
   "cell_type": "code",
   "execution_count": 2,
   "id": "f33972e4-2f4b-4f4e-a357-2dc981354fa9",
   "metadata": {},
   "outputs": [
    {
     "name": "stdout",
     "output_type": "stream",
     "text": [
      "Bonjour le monde !\n"
     ]
    }
   ],
   "source": [
    "print(\"Bonjour le monde !\")"
   ]
  },
  {
   "cell_type": "code",
   "execution_count": 3,
   "id": "f2dbcb76-8bee-4076-941e-94a20ed4663a",
   "metadata": {
    "tags": []
   },
   "outputs": [
    {
     "name": "stdout",
     "output_type": "stream",
     "text": [
      "Je suis un notebook Python\n"
     ]
    }
   ],
   "source": [
    "print(\"Je suis un notebook Python\")"
   ]
  },
  {
   "cell_type": "code",
   "execution_count": 4,
   "id": "297185b9-5961-4816-85b9-7e3bcd96fad5",
   "metadata": {},
   "outputs": [
    {
     "name": "stdout",
     "output_type": "stream",
     "text": [
      "nouvel essai\n"
     ]
    }
   ],
   "source": [
    "print(\"nouvel essai\")"
   ]
  },
  {
   "cell_type": "code",
   "execution_count": 1,
   "id": "8904f5e0-536b-4eba-8711-fab255a36f13",
   "metadata": {},
   "outputs": [
    {
     "data": {
      "text/plain": [
       "2"
      ]
     },
     "execution_count": 1,
     "metadata": {},
     "output_type": "execute_result"
    }
   ],
   "source": [
    "1+1"
   ]
  },
  {
   "cell_type": "markdown",
   "id": "7e2b0932-fd9a-44cf-966e-e50b7c2528cb",
   "metadata": {
    "tags": []
   },
   "source": [
    "## Compter les mots et caractères"
   ]
  },
  {
   "cell_type": "code",
   "execution_count": 22,
   "id": "6af22416-f461-4d17-9c9d-82f56b5c1922",
   "metadata": {},
   "outputs": [
    {
     "name": "stdin",
     "output_type": "stream",
     "text": [
      " les insectes sont nos amis il faut les aimer aussi\n"
     ]
    },
    {
     "name": "stdout",
     "output_type": "stream",
     "text": [
      "Le texte a :\n",
      " 50 caractères \n",
      " 10 mots\n"
     ]
    }
   ],
   "source": [
    "entree = input()\n",
    "nombre_caracteres = len(entree)\n",
    "nombre_mots = len(entree.split())\n",
    "print(\"Le texte a :\\n {} caractères \\n {} mots\"\\\n",
    ".format(nombre_caracteres,nombre_mots))"
   ]
  },
  {
   "cell_type": "markdown",
   "id": "eaa9a980-4b90-497f-b616-59ba6bf35453",
   "metadata": {},
   "source": [
    "## Suite des essais : les variables"
   ]
  },
  {
   "cell_type": "code",
   "execution_count": 2,
   "id": "82d7253a-3653-4a67-bdcf-1177aec631b4",
   "metadata": {},
   "outputs": [],
   "source": [
    "pop_france = 67190000"
   ]
  },
  {
   "cell_type": "code",
   "execution_count": 3,
   "id": "551ffe55-6538-4e74-b280-79038cae8fad",
   "metadata": {},
   "outputs": [],
   "source": [
    "pop_france_M = 67.19"
   ]
  },
  {
   "cell_type": "code",
   "execution_count": 4,
   "id": "96127fe0-94b6-4442-868d-8037f57e13bf",
   "metadata": {},
   "outputs": [
    {
     "name": "stdout",
     "output_type": "stream",
     "text": [
      "67190000\n"
     ]
    }
   ],
   "source": [
    "print(pop_france)"
   ]
  },
  {
   "cell_type": "code",
   "execution_count": 6,
   "id": "f940fc1e-0a71-4a32-b6cb-bce740aa152e",
   "metadata": {},
   "outputs": [
    {
     "name": "stdout",
     "output_type": "stream",
     "text": [
      "73909000.0\n"
     ]
    }
   ],
   "source": [
    "pop_france_aug = pop_france + 0.1*pop_france\n",
    "print(pop_france_aug)"
   ]
  },
  {
   "cell_type": "code",
   "execution_count": 8,
   "id": "448de8b9-d62c-440e-8f52-dae76fc90a28",
   "metadata": {},
   "outputs": [
    {
     "name": "stdout",
     "output_type": "stream",
     "text": [
      "73909000.0\n"
     ]
    }
   ],
   "source": [
    "print(1.1*pop_france)"
   ]
  },
  {
   "cell_type": "code",
   "execution_count": 9,
   "id": "6e015fd2-d660-4f99-a3ae-991f0c42dbe6",
   "metadata": {},
   "outputs": [
    {
     "name": "stdout",
     "output_type": "stream",
     "text": [
      "67190000\n",
      "67452041.0\n"
     ]
    }
   ],
   "source": [
    "print(pop_france)\n",
    "pop_france = pop_france + 0.0039*pop_france\n",
    "print(pop_france)"
   ]
  },
  {
   "cell_type": "markdown",
   "id": "29156e80-3af9-4d49-988a-2c08b46f7249",
   "metadata": {},
   "source": [
    "## Le type des variables"
   ]
  },
  {
   "cell_type": "code",
   "execution_count": 10,
   "id": "9a6d994e-604d-4c13-8783-032ecf5e2902",
   "metadata": {},
   "outputs": [
    {
     "data": {
      "text/plain": [
       "int"
      ]
     },
     "execution_count": 10,
     "metadata": {},
     "output_type": "execute_result"
    }
   ],
   "source": [
    "pop_france = 67190000\n",
    "type(pop_france)"
   ]
  },
  {
   "cell_type": "code",
   "execution_count": 11,
   "id": "9b4e56a7-2c7b-4e92-8cf4-7b9b1cf41952",
   "metadata": {},
   "outputs": [
    {
     "data": {
      "text/plain": [
       "float"
      ]
     },
     "execution_count": 11,
     "metadata": {},
     "output_type": "execute_result"
    }
   ],
   "source": [
    "pop_france_M = 67.19\n",
    "type(pop_france_M)"
   ]
  },
  {
   "cell_type": "code",
   "execution_count": 12,
   "id": "fe415cc4-c1a4-476d-9e18-78e74a8151fd",
   "metadata": {},
   "outputs": [
    {
     "name": "stdout",
     "output_type": "stream",
     "text": [
      "None\n"
     ]
    }
   ],
   "source": [
    "variable = None\n",
    "print(variable)"
   ]
  },
  {
   "cell_type": "markdown",
   "id": "46ef9f9b-96f7-4a73-817c-17c5ec784929",
   "metadata": {},
   "source": [
    "## Chaînes de caractères"
   ]
  },
  {
   "cell_type": "code",
   "execution_count": 13,
   "id": "41da304f-41a5-48e4-9756-b4cc148f2c65",
   "metadata": {},
   "outputs": [
    {
     "data": {
      "text/plain": [
       "str"
      ]
     },
     "execution_count": 13,
     "metadata": {},
     "output_type": "execute_result"
    }
   ],
   "source": [
    "pays = \"France\"\n",
    "type(pays)"
   ]
  },
  {
   "cell_type": "markdown",
   "id": "8c0685a1-e58d-4ca5-bdb6-45d5d806b58f",
   "metadata": {
    "tags": []
   },
   "source": [
    "<span style = \"color: blue\">**str :** *chaîne de caractères*</style>\n",
    "\n",
    "<span style = \"color: blue\">Attention aux guillemets, utiliser les guillemets simples, les backslash ou les triples guillemets</style>"
   ]
  },
  {
   "cell_type": "code",
   "execution_count": 15,
   "id": "81a5be1a-0d01-4c40-9db0-dcc529ca0943",
   "metadata": {},
   "outputs": [
    {
     "name": "stdout",
     "output_type": "stream",
     "text": [
      "\"C'est un petit pas pour l'homme...\" - N. Amstrong\n",
      "\"C'est un petit pas pour l'homme...\" - N. Amstrong\n",
      "\"C'est un petit pas pour l'homme...\" - N. Amstrong\n",
      "\"C'est un petit pas pour l'homme...\" - N. Amstrong\n"
     ]
    }
   ],
   "source": [
    "print ('\"C\\'est un petit pas pour l\\'homme...\" - N. Amstrong')\n",
    "print (\"\\\"C\\'est un petit pas pour l\\'homme...\\\" - N. Amstrong\")\n",
    "print ('''\"C'est un petit pas pour l'homme...\" - N. Amstrong''')\n",
    "print (\"\"\"\"C'est un petit pas pour l'homme...\" - N. Amstrong\"\"\")"
   ]
  },
  {
   "cell_type": "markdown",
   "id": "7f3c6630-c5c3-463f-831a-647355686ebc",
   "metadata": {},
   "source": [
    "## Caractères spéciaux"
   ]
  },
  {
   "cell_type": "code",
   "execution_count": 17,
   "id": "af1d3424-972d-4d92-95ef-b19d27f73764",
   "metadata": {},
   "outputs": [
    {
     "name": "stdout",
     "output_type": "stream",
     "text": [
      "Population 67190000 habitants\n"
     ]
    }
   ],
   "source": [
    "texte = \"Population \" + str(pop_france) + \" habitants\"\n",
    "print(texte)"
   ]
  },
  {
   "cell_type": "markdown",
   "id": "cdf9d837-89d2-46bc-9fd1-5c446a388bf7",
   "metadata": {},
   "source": [
    "<span style = \"color: blue\">*Attention à la mise en forme de la variable texte, espaces à l'intérieur des guillemets*</style>"
   ]
  },
  {
   "cell_type": "code",
   "execution_count": 61,
   "id": "2095c544-21a1-486e-8b0c-5e57c70ff877",
   "metadata": {},
   "outputs": [
    {
     "name": "stdout",
     "output_type": "stream",
     "text": [
      "France a 67190000 habitants\n"
     ]
    }
   ],
   "source": [
    "population = 67190000\n",
    "pays = \"France\"\n",
    "print(pays + \" a \" + str(population) + \" habitants\")"
   ]
  },
  {
   "cell_type": "markdown",
   "id": "9e617dfb-330f-4750-935e-03fee1915878",
   "metadata": {},
   "source": [
    "## Ensembles : listes et dictionnaires"
   ]
  },
  {
   "cell_type": "markdown",
   "id": "6063f665-b4e9-4601-8a7f-8edbe313b9d5",
   "metadata": {},
   "source": [
    "### Listes"
   ]
  },
  {
   "cell_type": "markdown",
   "id": "990641b8-bdc4-4feb-bc4b-d005b5aa20cd",
   "metadata": {},
   "source": [
    "<span style = \"color: blue\">*Liste : ensemble d'éléments ordonnés, avec des* [ ]</style>\n",
    "\n",
    "<span style = \"color: blue\">*Attention, un liste commence à zéro !*</style>"
   ]
  },
  {
   "cell_type": "code",
   "execution_count": 23,
   "id": "e94f60ec-64ca-49c0-99f2-2a29e4d18bf6",
   "metadata": {},
   "outputs": [
    {
     "name": "stdout",
     "output_type": "stream",
     "text": [
      "[81, 60, 46, 11, 8, 0.5]\n"
     ]
    }
   ],
   "source": [
    "liste_populations = [81, 60, 46, 11, 8, 0.5]\n",
    "print(liste_populations)"
   ]
  },
  {
   "cell_type": "markdown",
   "id": "1b6a7478-cea7-4723-8b4b-112e57784eca",
   "metadata": {},
   "source": [
    "<span style = \"color: blue\">*Affichage du type de variable de liste_populations*</style>"
   ]
  },
  {
   "cell_type": "code",
   "execution_count": 24,
   "id": "5b011e95-3704-4177-a579-fb77f203abfb",
   "metadata": {},
   "outputs": [
    {
     "data": {
      "text/plain": [
       "list"
      ]
     },
     "execution_count": 24,
     "metadata": {},
     "output_type": "execute_result"
    }
   ],
   "source": [
    "type(liste_populations)"
   ]
  },
  {
   "cell_type": "markdown",
   "id": "7009b905-9eb4-44da-bd2b-b1f5ed418752",
   "metadata": {},
   "source": [
    "<span style = \"color: blue\">*Suppression d'un élément de la liste*</style>"
   ]
  },
  {
   "cell_type": "code",
   "execution_count": 26,
   "id": "8f4a788a-c7c4-412d-8065-912ff4eeb8e6",
   "metadata": {},
   "outputs": [
    {
     "name": "stdout",
     "output_type": "stream",
     "text": [
      "[81, 60, 46, 11, 8]\n"
     ]
    }
   ],
   "source": [
    "liste_populations.remove(0.5)\n",
    "print(liste_populations)"
   ]
  },
  {
   "cell_type": "markdown",
   "id": "f4014e8f-7298-4f79-8286-2f3789fac3e7",
   "metadata": {},
   "source": [
    "<span style = \"color: blue\">*Affichage d'un élément de la liste*</style>"
   ]
  },
  {
   "cell_type": "code",
   "execution_count": 27,
   "id": "3cb386fe-d101-43ae-9b26-dce0c570d4d9",
   "metadata": {},
   "outputs": [
    {
     "name": "stdout",
     "output_type": "stream",
     "text": [
      "11\n"
     ]
    }
   ],
   "source": [
    "print(liste_populations[3])"
   ]
  },
  {
   "cell_type": "markdown",
   "id": "a09317fb-33ff-42cf-a81e-02b6ff972e48",
   "metadata": {},
   "source": [
    "<span style = \"color: blue\">*Ajout d'un élément à la liste*</style>"
   ]
  },
  {
   "cell_type": "code",
   "execution_count": 28,
   "id": "4815e2ba-e4b2-4566-8c5d-75d41d5d2607",
   "metadata": {},
   "outputs": [
    {
     "name": "stdout",
     "output_type": "stream",
     "text": [
      "[81, 60, 46, 11, 8, 67]\n"
     ]
    }
   ],
   "source": [
    "liste_populations.append(67)\n",
    "print(liste_populations)"
   ]
  },
  {
   "cell_type": "markdown",
   "id": "0b7f81b4-d599-4584-9b66-e426fb4dc3ff",
   "metadata": {},
   "source": [
    "<span style = \"color: blue\">*Modifier une valeur dans la liste, par exemple le premier élément, qui est donc le zéro*</style>"
   ]
  },
  {
   "cell_type": "code",
   "execution_count": 29,
   "id": "48eb2360-d74c-4ead-b5bb-04d241d7bb64",
   "metadata": {},
   "outputs": [
    {
     "name": "stdout",
     "output_type": "stream",
     "text": [
      "[82, 60, 46, 11, 8, 67]\n"
     ]
    }
   ],
   "source": [
    "liste_populations[0] = 82\n",
    "print(liste_populations)"
   ]
  },
  {
   "cell_type": "markdown",
   "id": "1a80c268-b08f-4353-9289-816583fc8979",
   "metadata": {},
   "source": [
    "<span style = \"color: blue\">Obtenir le dernier élément d'une liste : [-1], l'avant dernier [-2]</style>\n",
    "\n",
    "<span style = \"color: blue\">Du 2e au 4e élément : liste[1:4]. Attention, le premier élément écrit est inclus, pas le dernier.</style>"
   ]
  },
  {
   "cell_type": "code",
   "execution_count": 30,
   "id": "343eddda-6056-438f-b24e-240877382889",
   "metadata": {},
   "outputs": [
    {
     "data": {
      "text/plain": [
       "8"
      ]
     },
     "execution_count": 30,
     "metadata": {},
     "output_type": "execute_result"
    }
   ],
   "source": [
    "liste_populations[-2]"
   ]
  },
  {
   "cell_type": "code",
   "execution_count": 31,
   "id": "d1ebaaf5-895b-4de3-ae29-d72f9f72b68f",
   "metadata": {},
   "outputs": [
    {
     "data": {
      "text/plain": [
       "[60, 46]"
      ]
     },
     "execution_count": 31,
     "metadata": {},
     "output_type": "execute_result"
    }
   ],
   "source": [
    "liste_populations[1:3]"
   ]
  },
  {
   "cell_type": "markdown",
   "id": "15788581-34dc-484c-a7d7-3d0b74f7ca48",
   "metadata": {},
   "source": [
    "<span style = \"color: blue\">Remplacement d'un élément dans la liste, ici \"dix\"</style>"
   ]
  },
  {
   "cell_type": "code",
   "execution_count": 37,
   "id": "39f1db8c-87e4-4c44-a017-7989373edb74",
   "metadata": {},
   "outputs": [
    {
     "name": "stdout",
     "output_type": "stream",
     "text": [
      "[12, 32, 43, 23, 10, 16]\n"
     ]
    }
   ],
   "source": [
    "liste = [12, 32, 43, 23, \"dix\", 16]\n",
    "liste[-2] = 10\n",
    "print(liste)"
   ]
  },
  {
   "cell_type": "markdown",
   "id": "83f8c50c-062e-4cd4-b69b-86cacafc0468",
   "metadata": {},
   "source": [
    "### Dictionnaires"
   ]
  },
  {
   "cell_type": "code",
   "execution_count": 38,
   "id": "bbf5bd21-bf8a-4d20-a309-9451b5fb4eea",
   "metadata": {},
   "outputs": [],
   "source": [
    "dictionnaire_populations = {\n",
    "    \"Allemagne\":81,\n",
    "    \"Italie\":60,\n",
    "    \"Espagne\":46,\n",
    "    \"Belgique\":11,\n",
    "    \"Suisse\":8,\n",
    "    \"Luxembourg\":0.5\n",
    "}"
   ]
  },
  {
   "cell_type": "code",
   "execution_count": 39,
   "id": "99ba87c1-acb0-4ab0-9f12-0f2669d942c6",
   "metadata": {},
   "outputs": [
    {
     "name": "stdout",
     "output_type": "stream",
     "text": [
      "{'Allemagne': 81, 'Italie': 60, 'Espagne': 46, 'Belgique': 11, 'Suisse': 8, 'Luxembourg': 0.5}\n"
     ]
    }
   ],
   "source": [
    "print(dictionnaire_populations)"
   ]
  },
  {
   "cell_type": "code",
   "execution_count": 41,
   "id": "6950f1ed-581a-41be-a1a2-250fc055e567",
   "metadata": {},
   "outputs": [
    {
     "name": "stdout",
     "output_type": "stream",
     "text": [
      "81\n"
     ]
    }
   ],
   "source": [
    "print(dictionnaire_populations[\"Allemagne\"])"
   ]
  },
  {
   "cell_type": "markdown",
   "id": "4ed85667-836b-42b0-ac4c-993aa7b12153",
   "metadata": {},
   "source": [
    "<span style = \"color: blue\">Ajout d'un élément</style>"
   ]
  },
  {
   "cell_type": "code",
   "execution_count": 43,
   "id": "951ea4de-1430-4d23-ac76-e89e16980187",
   "metadata": {},
   "outputs": [
    {
     "data": {
      "text/plain": [
       "{'Allemagne': 81,\n",
       " 'Italie': 60,\n",
       " 'Espagne': 46,\n",
       " 'Belgique': 11,\n",
       " 'Suisse': 8,\n",
       " 'Luxembourg': 0.5,\n",
       " 'Royaume-Uni': 65}"
      ]
     },
     "execution_count": 43,
     "metadata": {},
     "output_type": "execute_result"
    }
   ],
   "source": [
    "dictionnaire_populations[\"Royaume-Uni\"] = 65\n",
    "dictionnaire_populations"
   ]
  },
  {
   "cell_type": "markdown",
   "id": "e4850142-9a54-41cb-94d3-267a1ae92bba",
   "metadata": {},
   "source": [
    "<span style = \"color: blue\">Modifier une valeur</style>"
   ]
  },
  {
   "cell_type": "code",
   "execution_count": 44,
   "id": "93b469a8-aeb1-4f12-9862-6e8634446ad3",
   "metadata": {},
   "outputs": [
    {
     "data": {
      "text/plain": [
       "{'Allemagne': 82,\n",
       " 'Italie': 60,\n",
       " 'Espagne': 46,\n",
       " 'Belgique': 11,\n",
       " 'Suisse': 8,\n",
       " 'Luxembourg': 0.5,\n",
       " 'Royaume-Uni': 65}"
      ]
     },
     "execution_count": 44,
     "metadata": {},
     "output_type": "execute_result"
    }
   ],
   "source": [
    "dictionnaire_populations[\"Allemagne\"] = 82\n",
    "dictionnaire_populations"
   ]
  },
  {
   "cell_type": "markdown",
   "id": "518dcf74-65bf-4141-9b54-73dcf55cbed4",
   "metadata": {},
   "source": [
    "<span style = \"color: blue\">**Dictionnaire nom, prénom, âge, ville**</style>"
   ]
  },
  {
   "cell_type": "code",
   "execution_count": 53,
   "id": "0887cf71-a17a-411c-b360-954e8158018a",
   "metadata": {},
   "outputs": [],
   "source": [
    "emilien = {\"nom\":\"SCHULTZ\", \"prenom\":\"Emilien\", \"age\":33, \"ville\":\"Marseille, France\"}\n",
    "matthias = {\"nom\":\"BUSSONNIER\", \"prenom\":\"Matthias\", \"age\":34, \"ville\":\"Merced, Californie\"}\n",
    "liste_auteurs = [emilien, matthias]"
   ]
  },
  {
   "cell_type": "markdown",
   "id": "26ddee88-fa13-4db8-83c3-54ff5e5b5f5f",
   "metadata": {},
   "source": [
    "<span style = \"color: blue\">*NB : erreur de syntaxe dans le livre p.42. Syntaxe issue de https://python.sdv.univ-paris-diderot.fr/13_dictionnaires_tuples_sets/*</style>"
   ]
  },
  {
   "cell_type": "markdown",
   "id": "793818db-cdc8-4d78-84fb-241db446f6f0",
   "metadata": {},
   "source": [
    "<span style = \"color: blue\">Nombre d'éléments d'une liste</style>"
   ]
  },
  {
   "cell_type": "code",
   "execution_count": 54,
   "id": "6468934a-5371-4a8b-b19c-ca482fb5c1ab",
   "metadata": {},
   "outputs": [
    {
     "name": "stdout",
     "output_type": "stream",
     "text": [
      "7\n"
     ]
    }
   ],
   "source": [
    "nombre = len(dictionnaire_populations)\n",
    "print(nombre)"
   ]
  },
  {
   "cell_type": "code",
   "execution_count": 55,
   "id": "9b5752d2-d6bd-41d8-b9dc-5e9e29df0178",
   "metadata": {},
   "outputs": [
    {
     "name": "stdout",
     "output_type": "stream",
     "text": [
      "2\n"
     ]
    }
   ],
   "source": [
    "nombre = len(liste_auteurs)\n",
    "print(nombre)"
   ]
  },
  {
   "cell_type": "markdown",
   "id": "523ae154-54a0-4e73-85fa-99fb493bba7e",
   "metadata": {},
   "source": [
    "<span style = \"color: blue\">Chaîne de caractères : 2e lettre (1, puisqu'on compte depuis 0)</style>"
   ]
  },
  {
   "cell_type": "code",
   "execution_count": 57,
   "id": "92421813-d0c1-4096-a6d5-6bb4dd8ccd20",
   "metadata": {},
   "outputs": [
    {
     "name": "stdout",
     "output_type": "stream",
     "text": [
      "21\n",
      "La deuxième lettre est : u\n"
     ]
    }
   ],
   "source": [
    "chaine = \"du texte pour essayer\"\n",
    "deuxième_lettre = chaine[1]\n",
    "longueur_chaine = len(chaine)\n",
    "print(longueur_chaine)\n",
    "print(\"La deuxième lettre est : \" + deuxième_lettre)"
   ]
  },
  {
   "cell_type": "markdown",
   "id": "5dd89293-192d-455e-9646-8639d0051883",
   "metadata": {},
   "source": [
    "<span style = \"color: blue\">*Stop p. 43*</style>"
   ]
  }
 ],
 "metadata": {
  "kernelspec": {
   "display_name": "Python 3",
   "language": "python",
   "name": "python3"
  },
  "language_info": {
   "codemirror_mode": {
    "name": "ipython",
    "version": 3
   },
   "file_extension": ".py",
   "mimetype": "text/x-python",
   "name": "python",
   "nbconvert_exporter": "python",
   "pygments_lexer": "ipython3",
   "version": "3.9.5"
  }
 },
 "nbformat": 4,
 "nbformat_minor": 5
}
